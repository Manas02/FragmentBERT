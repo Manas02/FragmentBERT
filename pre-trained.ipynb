{
 "cells": [
  {
   "cell_type": "markdown",
   "metadata": {},
   "source": [
    "# Large Language Models are Fragment Based Drug Designers\n",
    "# Manas Mahale <manas.mahale@bcp.edu.in>"
   ]
  },
  {
   "cell_type": "code",
   "execution_count": 16,
   "metadata": {},
   "outputs": [],
   "source": [
    "import os\n",
    "import random\n",
    "from rdkit import Chem\n",
    "from rdkit.Chem import BRICS\n",
    "from transformers import BertForMaskedLM, BertModel, pipeline, PreTrainedTokenizerFast\n",
    "from tokenizers.processors import TemplateProcessing\n",
    "from tokenizers import Tokenizer\n",
    "from tokenizers.models import WordLevel\n",
    "from tokenizers.trainers import WordLevelTrainer\n",
    "from tokenizers.pre_tokenizers import WhitespaceSplit"
   ]
  },
  {
   "cell_type": "code",
   "execution_count": 2,
   "metadata": {},
   "outputs": [],
   "source": [
    "tokenizer = PreTrainedTokenizerFast.from_pretrained('./tokenizer/')"
   ]
  },
  {
   "cell_type": "code",
   "execution_count": 3,
   "metadata": {},
   "outputs": [],
   "source": [
    "tokenizer.mask_token = \"[MASK]\"\n",
    "tokenizer.unk_token = \"[UNK]\"\n",
    "tokenizer.pad_token = \"[PAD]\"\n",
    "tokenizer.sep_token = \"[SEP]\"\n",
    "tokenizer.cls_token = \"[CLS]\""
   ]
  },
  {
   "cell_type": "code",
   "execution_count": 4,
   "metadata": {},
   "outputs": [],
   "source": [
    "model = BertForMaskedLM.from_pretrained(os.path.join('model/', \"checkpoint-250\"))"
   ]
  },
  {
   "cell_type": "code",
   "execution_count": 5,
   "metadata": {},
   "outputs": [],
   "source": [
    "fill_mask = pipeline(\"fill-mask\", model=model, tokenizer=tokenizer)"
   ]
  },
  {
   "cell_type": "code",
   "execution_count": 6,
   "metadata": {},
   "outputs": [],
   "source": [
    "smi = 'CCc1nc(CNc2cccc3cccnc23)cs1'"
   ]
  },
  {
   "cell_type": "code",
   "execution_count": 7,
   "metadata": {},
   "outputs": [],
   "source": [
    "d = list(BRICS.BRICSDecompose(Chem.MolFromSmiles(smi)))"
   ]
  },
  {
   "cell_type": "code",
   "execution_count": 8,
   "metadata": {},
   "outputs": [],
   "source": [
    "dummy = Chem.MolFromSmiles('[*]')\n",
    "\n",
    "def mol_to_smiles(mol):\n",
    "        return Chem.MolToSmiles(mol, isomericSmiles=True)\n",
    "\n",
    "def mol_from_smiles(smi):\n",
    "    return Chem.MolFromSmiles(smi)\n",
    "\n",
    "\n",
    "def strip_dummy_atoms(mol):\n",
    "    hydrogen = mol_from_smiles('[H]')\n",
    "    mols = Chem.ReplaceSubstructs(mol, dummy, hydrogen, replaceAll=True)\n",
    "    mol = Chem.RemoveHs(mols[0])\n",
    "    return mol"
   ]
  },
  {
   "cell_type": "code",
   "execution_count": 63,
   "metadata": {},
   "outputs": [
    {
     "name": "stderr",
     "output_type": "stream",
     "text": [
      "RDKit WARNING: [09:40:05] WARNING: not removing hydrogen atom without neighbors\n",
      "RDKit WARNING: [09:40:05] WARNING: not removing hydrogen atom without neighbors\n",
      "RDKit WARNING: [09:40:05] WARNING: not removing hydrogen atom without neighbors\n",
      "RDKit WARNING: [09:40:05] WARNING: not removing hydrogen atom without neighbors\n",
      "RDKit WARNING: [09:40:05] WARNING: not removing hydrogen atom without neighbors\n"
     ]
    },
    {
     "data": {
      "text/plain": [
       "'CC c1ccc2ncccc2c1 c1cscn1 [MASK] C N'"
      ]
     },
     "execution_count": 63,
     "metadata": {},
     "output_type": "execute_result"
    }
   ],
   "source": [
    "a = [mol_to_smiles(strip_dummy_atoms(mol_from_smiles(i))) for i in d]\n",
    "a.insert(random.randint(0, len(a)), '[MASK]')\n",
    "a = ' '.join(a)\n",
    "a"
   ]
  },
  {
   "cell_type": "code",
   "execution_count": 64,
   "metadata": {},
   "outputs": [
    {
     "data": {
      "text/plain": [
       "[1, 14, 25, 64, 4, 13, 5, 2]"
      ]
     },
     "execution_count": 64,
     "metadata": {},
     "output_type": "execute_result"
    }
   ],
   "source": [
    "b = tokenizer.encode(a)\n",
    "b"
   ]
  },
  {
   "cell_type": "code",
   "execution_count": 65,
   "metadata": {
    "scrolled": true
   },
   "outputs": [
    {
     "data": {
      "text/plain": [
       "'[CLS] CC c1ccc2ncccc2c1 c1cscn1 [MASK] C N [SEP]'"
      ]
     },
     "execution_count": 65,
     "metadata": {},
     "output_type": "execute_result"
    }
   ],
   "source": [
    "tokenizer.decode(b)"
   ]
  },
  {
   "cell_type": "code",
   "execution_count": 66,
   "metadata": {},
   "outputs": [
    {
     "name": "stdout",
     "output_type": "stream",
     "text": [
      "{'score': 0.2568870782852173, 'token': 6, 'token_str': 'CC=O', 'sequence': 'CC c1ccc2ncccc2c1 c1cscn1 CC=O C N'}\n",
      "{'score': 0.23006771504878998, 'token': 8, 'token_str': 'C=O', 'sequence': 'CC c1ccc2ncccc2c1 c1cscn1 C=O C N'}\n",
      "{'score': 0.08648885041475296, 'token': 9, 'token_str': 'c1ccccc1', 'sequence': 'CC c1ccc2ncccc2c1 c1cscn1 c1ccccc1 C N'}\n",
      "{'score': 0.07768130302429199, 'token': 12, 'token_str': 'CO', 'sequence': 'CC c1ccc2ncccc2c1 c1cscn1 CO C N'}\n",
      "{'score': 0.045079827308654785, 'token': 24, 'token_str': 'c1ccsc1', 'sequence': 'CC c1ccc2ncccc2c1 c1cscn1 c1ccsc1 C N'}\n"
     ]
    }
   ],
   "source": [
    "for prediction in fill_mask(a):\n",
    "    print(prediction)"
   ]
  }
 ],
 "metadata": {
  "kernelspec": {
   "display_name": "Python 3",
   "language": "python",
   "name": "python3"
  },
  "language_info": {
   "codemirror_mode": {
    "name": "ipython",
    "version": 3
   },
   "file_extension": ".py",
   "mimetype": "text/x-python",
   "name": "python",
   "nbconvert_exporter": "python",
   "pygments_lexer": "ipython3",
   "version": "3.9.1"
  }
 },
 "nbformat": 4,
 "nbformat_minor": 4
}
