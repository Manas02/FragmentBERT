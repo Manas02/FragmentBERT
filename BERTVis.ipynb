{
 "cells": [
  {
   "cell_type": "markdown",
   "metadata": {},
   "source": [
    "# BERTVis on FBDD-LLM\n",
    "# Manas Mahale <manas.mahale@bcp.edu.in>"
   ]
  },
  {
   "cell_type": "code",
   "execution_count": null,
   "metadata": {},
   "outputs": [],
   "source": [
    "import os\n",
    "from transformers import BertForMaskedLM, BertModel, pipeline, PreTrainedTokenizerFast, utils\n",
    "from tokenizers.processors import TemplateProcessing\n",
    "from tokenizers import Tokenizer\n",
    "from tokenizers.models import WordLevel\n",
    "from tokenizers.trainers import WordLevelTrainer\n",
    "from tokenizers.pre_tokenizers import WhitespaceSplit"
   ]
  },
  {
   "cell_type": "code",
   "execution_count": null,
   "metadata": {},
   "outputs": [],
   "source": [
    "from bertviz import model_view"
   ]
  },
  {
   "cell_type": "code",
   "execution_count": null,
   "metadata": {},
   "outputs": [],
   "source": [
    "utils.logging.set_verbosity_error()"
   ]
  },
  {
   "cell_type": "code",
   "execution_count": null,
   "metadata": {},
   "outputs": [],
   "source": [
    "tokenizer = PreTrainedTokenizerFast.from_pretrained('./tokenizer/')"
   ]
  },
  {
   "cell_type": "code",
   "execution_count": null,
   "metadata": {},
   "outputs": [],
   "source": [
    "tokenizer.mask_token = \"[MASK]\"\n",
    "tokenizer.unk_token = \"[UNK]\"\n",
    "tokenizer.pad_token = \"[PAD]\"\n",
    "tokenizer.sep_token = \"[SEP]\"\n",
    "tokenizer.cls_token = \"[CLS]\""
   ]
  },
  {
   "cell_type": "code",
   "execution_count": null,
   "metadata": {},
   "outputs": [],
   "source": [
    "model = BertForMaskedLM.from_pretrained(os.path.join('./model/', \"checkpoint-250\"), output_attentions=True)"
   ]
  },
  {
   "cell_type": "code",
   "execution_count": null,
   "metadata": {},
   "outputs": [],
   "source": [
    "inputs = tokenizer.encode(\"N c1ccc2ncccc2c1 [MASK] c1cscn1 CC\", return_tensors='pt')\n",
    "outputs = model(inputs)"
   ]
  },
  {
   "cell_type": "code",
   "execution_count": null,
   "metadata": {},
   "outputs": [],
   "source": [
    "attention = outputs[-1]"
   ]
  },
  {
   "cell_type": "code",
   "execution_count": null,
   "metadata": {},
   "outputs": [],
   "source": [
    "tokens = tokenizer.convert_ids_to_tokens(inputs[0]) "
   ]
  },
  {
   "cell_type": "code",
   "execution_count": null,
   "metadata": {},
   "outputs": [],
   "source": [
    "model_view(attention, tokens)"
   ]
  },
  {
   "cell_type": "code",
   "execution_count": null,
   "metadata": {},
   "outputs": [],
   "source": [
    "from bertviz import head_view\n",
    "head_view(attention, tokens)"
   ]
  },
  {
   "cell_type": "code",
   "execution_count": null,
   "metadata": {},
   "outputs": [],
   "source": [
    "# Import specialized versions of models (that return query/key vectors)\n",
    "from bertviz.transformers_neuron_view import BertForMaskedLM, PreTrainedTokenizer\n",
    "from bertviz.neuron_view import show\n",
    "\n",
    "model = BertForMaskedLM.from_pretrained(os.path.join('./model/', \"checkpoint-250\"), output_attentions=True)\n",
    "tokenizer = PreTrainedTokenizerFast.from_pretrained('./tokenizer/')\n",
    "tokenizer.mask_token = \"[MASK]\"\n",
    "tokenizer.unk_token = \"[UNK]\"\n",
    "tokenizer.pad_token = \"[PAD]\"\n",
    "tokenizer.sep_token = \"[SEP]\"\n",
    "tokenizer.cls_token = \"[CLS]\"\n",
    "\n",
    "sentence_a = \"N c1ccc2ncccc2c1 CC=O c1cscn1 CC\"\n",
    "sentence_b = \"N c1ccc2ncccc2c1 S c1cscn1 CC\"\n",
    "\n",
    "show(model, 'bert', tokenizer, sentence_a, sentence_b, layer=2, head=0)"
   ]
  }
 ],
 "metadata": {
  "kernelspec": {
   "display_name": "Python 3",
   "language": "python",
   "name": "python3"
  },
  "language_info": {
   "codemirror_mode": {
    "name": "ipython",
    "version": 3
   },
   "file_extension": ".py",
   "mimetype": "text/x-python",
   "name": "python",
   "nbconvert_exporter": "python",
   "pygments_lexer": "ipython3",
   "version": "3.9.1"
  }
 },
 "nbformat": 4,
 "nbformat_minor": 4
}
